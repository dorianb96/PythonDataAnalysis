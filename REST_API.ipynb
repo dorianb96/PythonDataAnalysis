{
 "cells": [
  {
   "cell_type": "markdown",
   "metadata": {},
   "source": [
    "### cBioPortal REST API test"
   ]
  },
  {
   "cell_type": "markdown",
   "metadata": {},
   "source": [
    "List of studies:\n",
    "- https://github.com/cBioPortal/datahub/tree/master/public\n",
    "    - if needed you could parse the name of studies from the website and feed them into here\n",
    "    \n",
    "    \n",
    "Issues:\n",
    "- is this the proper REST API usage?\n",
    "- I can only query 1000 rows at a time \n",
    "    - ie. pageSize=1000 parameter"
   ]
  },
  {
   "cell_type": "markdown",
   "metadata": {},
   "source": [
    "#### The raw data from REST API"
   ]
  },
  {
   "cell_type": "code",
   "execution_count": 1,
   "metadata": {
    "collapsed": false
   },
   "outputs": [
    {
     "data": {
      "text/html": [
       "<div>\n",
       "<table border=\"1\" class=\"dataframe\">\n",
       "  <thead>\n",
       "    <tr style=\"text-align: right;\">\n",
       "      <th></th>\n",
       "      <th>clinicalAttributeId</th>\n",
       "      <th>entityId</th>\n",
       "      <th>value</th>\n",
       "    </tr>\n",
       "  </thead>\n",
       "  <tbody>\n",
       "    <tr>\n",
       "      <th>0</th>\n",
       "      <td>CANCER_TYPE</td>\n",
       "      <td>ACYC-MSKCC_09_12352</td>\n",
       "      <td>Salivary Gland Cancer</td>\n",
       "    </tr>\n",
       "    <tr>\n",
       "      <th>1</th>\n",
       "      <td>CANCER_TYPE_DETAILED</td>\n",
       "      <td>ACYC-MSKCC_09_12352</td>\n",
       "      <td>Adenoid Cystic Carcinoma</td>\n",
       "    </tr>\n",
       "    <tr>\n",
       "      <th>2</th>\n",
       "      <td>METASTATIC_SITE</td>\n",
       "      <td>ACYC-MSKCC_09_12352</td>\n",
       "      <td>Bone</td>\n",
       "    </tr>\n",
       "    <tr>\n",
       "      <th>3</th>\n",
       "      <td>METASTATIC_TUMOR_INDICATOR</td>\n",
       "      <td>ACYC-MSKCC_09_12352</td>\n",
       "      <td>No</td>\n",
       "    </tr>\n",
       "    <tr>\n",
       "      <th>4</th>\n",
       "      <td>ONCOTREE_CODE</td>\n",
       "      <td>ACYC-MSKCC_09_12352</td>\n",
       "      <td>ACYC</td>\n",
       "    </tr>\n",
       "    <tr>\n",
       "      <th>5</th>\n",
       "      <td>PERINEURAL_INVASION</td>\n",
       "      <td>ACYC-MSKCC_09_12352</td>\n",
       "      <td>Microscopic</td>\n",
       "    </tr>\n",
       "    <tr>\n",
       "      <th>6</th>\n",
       "      <td>PLATFORM</td>\n",
       "      <td>ACYC-MSKCC_09_12352</td>\n",
       "      <td>WGS/WES</td>\n",
       "    </tr>\n",
       "    <tr>\n",
       "      <th>7</th>\n",
       "      <td>PRIMARY_SITE</td>\n",
       "      <td>ACYC-MSKCC_09_12352</td>\n",
       "      <td>Salivary gland</td>\n",
       "    </tr>\n",
       "  </tbody>\n",
       "</table>\n",
       "</div>"
      ],
      "text/plain": [
       "          clinicalAttributeId             entityId                     value\n",
       "0                 CANCER_TYPE  ACYC-MSKCC_09_12352     Salivary Gland Cancer\n",
       "1        CANCER_TYPE_DETAILED  ACYC-MSKCC_09_12352  Adenoid Cystic Carcinoma\n",
       "2             METASTATIC_SITE  ACYC-MSKCC_09_12352                      Bone\n",
       "3  METASTATIC_TUMOR_INDICATOR  ACYC-MSKCC_09_12352                        No\n",
       "4               ONCOTREE_CODE  ACYC-MSKCC_09_12352                      ACYC\n",
       "5         PERINEURAL_INVASION  ACYC-MSKCC_09_12352               Microscopic\n",
       "6                    PLATFORM  ACYC-MSKCC_09_12352                   WGS/WES\n",
       "7                PRIMARY_SITE  ACYC-MSKCC_09_12352            Salivary gland"
      ]
     },
     "execution_count": 1,
     "metadata": {},
     "output_type": "execute_result"
    }
   ],
   "source": [
    "import pandas as pd\n",
    "\n",
    "pd.read_json('http://cbioportal-rc.herokuapp.com/api/studies/acyc_mskcc_2013/clinical-data?projection=SUMMARY&pageNumber=0&pageSize=1000&direction=ASC').head(8)"
   ]
  },
  {
   "cell_type": "code",
   "execution_count": 2,
   "metadata": {
    "collapsed": true
   },
   "outputs": [],
   "source": [
    "def json_to_df(df):\n",
    "    # get the unique entities - study subjects\n",
    "    unique_ids = set(df.entityId)\n",
    "    # get unique attributes - attributes in this study\n",
    "    unique_attrib = set(df.clinicalAttributeId)\n",
    "    # create a dataframe from (study subjects x attributes)\n",
    "    new_df = pd.DataFrame(index = unique_ids, columns = unique_attrib)\n",
    "    # go through every id\n",
    "    for i in unique_ids:\n",
    "        # get the attribute value\n",
    "        for j in unique_attrib:\n",
    "            try:\n",
    "                # extract value\n",
    "                value = df.loc[(df['entityId']== i)&(df['clinicalAttributeId'] == j)]\n",
    "                # set the value in dataframe\n",
    "                new_df.set_value(index = i, col = j, value = value.values[0,2])\n",
    "            # in case the value isn't there which is quite often\n",
    "            except IndexError:\n",
    "                pass\n",
    "    return new_df\n",
    "\n"
   ]
  },
  {
   "cell_type": "code",
   "execution_count": 9,
   "metadata": {
    "collapsed": false
   },
   "outputs": [
    {
     "data": {
      "text/html": [
       "<div>\n",
       "<table border=\"1\" class=\"dataframe\">\n",
       "  <thead>\n",
       "    <tr style=\"text-align: right;\">\n",
       "      <th></th>\n",
       "      <th>SAMPLE_TYPE</th>\n",
       "      <th>CANCER_TYPE_DETAILED</th>\n",
       "      <th>ONCOTREE_CODE</th>\n",
       "      <th>PRIMARY_SITE</th>\n",
       "      <th>METASTATIC_TUMOR_INDICATOR</th>\n",
       "      <th>TUMOR_TISSUE_SITE</th>\n",
       "      <th>CANCER_TYPE</th>\n",
       "      <th>PERINEURAL_INVASION</th>\n",
       "      <th>METASTATIC_SITE</th>\n",
       "      <th>TUMOR_STAGE</th>\n",
       "      <th>PLATFORM</th>\n",
       "    </tr>\n",
       "  </thead>\n",
       "  <tbody>\n",
       "    <tr>\n",
       "      <th>ACYC-MSKCC_000236</th>\n",
       "      <td>Primary</td>\n",
       "      <td>Adenoid Cystic Carcinoma</td>\n",
       "      <td>ACYC</td>\n",
       "      <td>Head and Neck</td>\n",
       "      <td>No</td>\n",
       "      <td>Maxilla</td>\n",
       "      <td>Salivary Gland Cancer</td>\n",
       "      <td>Yes</td>\n",
       "      <td>NaN</td>\n",
       "      <td>Advanced</td>\n",
       "      <td>WGS/WES</td>\n",
       "    </tr>\n",
       "    <tr>\n",
       "      <th>ACYC-MSKCC_2000136</th>\n",
       "      <td>Primary</td>\n",
       "      <td>Adenoid Cystic Carcinoma</td>\n",
       "      <td>ACYC</td>\n",
       "      <td>Oral cavity</td>\n",
       "      <td>No</td>\n",
       "      <td>Hard palate</td>\n",
       "      <td>Salivary Gland Cancer</td>\n",
       "      <td>Yes</td>\n",
       "      <td>NaN</td>\n",
       "      <td>Advanced</td>\n",
       "      <td>WGS/WES</td>\n",
       "    </tr>\n",
       "    <tr>\n",
       "      <th>ACYC-MSKCC_002282</th>\n",
       "      <td>Primary</td>\n",
       "      <td>Adenoid Cystic Carcinoma</td>\n",
       "      <td>ACYC</td>\n",
       "      <td>Oral cavity</td>\n",
       "      <td>No</td>\n",
       "      <td>Hard palate</td>\n",
       "      <td>Salivary Gland Cancer</td>\n",
       "      <td>Yes</td>\n",
       "      <td>NaN</td>\n",
       "      <td>Early</td>\n",
       "      <td>WGS/WES</td>\n",
       "    </tr>\n",
       "    <tr>\n",
       "      <th>ACYC-MSKCC_2453</th>\n",
       "      <td>Primary</td>\n",
       "      <td>Adenoid Cystic Carcinoma</td>\n",
       "      <td>ACYC</td>\n",
       "      <td>Oral cavity</td>\n",
       "      <td>No</td>\n",
       "      <td>Palate</td>\n",
       "      <td>Salivary Gland Cancer</td>\n",
       "      <td>Yes</td>\n",
       "      <td>NaN</td>\n",
       "      <td>Advanced</td>\n",
       "      <td>WGS/WES</td>\n",
       "    </tr>\n",
       "    <tr>\n",
       "      <th>ACYC-MSKCC_80872</th>\n",
       "      <td>Primary</td>\n",
       "      <td>Adenoid Cystic Carcinoma</td>\n",
       "      <td>ACYC</td>\n",
       "      <td>Head and Neck</td>\n",
       "      <td>No</td>\n",
       "      <td>Thyroid</td>\n",
       "      <td>Salivary Gland Cancer</td>\n",
       "      <td>No</td>\n",
       "      <td>NaN</td>\n",
       "      <td>Advanced</td>\n",
       "      <td>WGS/WES</td>\n",
       "    </tr>\n",
       "  </tbody>\n",
       "</table>\n",
       "</div>"
      ],
      "text/plain": [
       "                   SAMPLE_TYPE      CANCER_TYPE_DETAILED ONCOTREE_CODE  \\\n",
       "ACYC-MSKCC_000236      Primary  Adenoid Cystic Carcinoma          ACYC   \n",
       "ACYC-MSKCC_2000136     Primary  Adenoid Cystic Carcinoma          ACYC   \n",
       "ACYC-MSKCC_002282      Primary  Adenoid Cystic Carcinoma          ACYC   \n",
       "ACYC-MSKCC_2453        Primary  Adenoid Cystic Carcinoma          ACYC   \n",
       "ACYC-MSKCC_80872       Primary  Adenoid Cystic Carcinoma          ACYC   \n",
       "\n",
       "                     PRIMARY_SITE METASTATIC_TUMOR_INDICATOR  \\\n",
       "ACYC-MSKCC_000236   Head and Neck                         No   \n",
       "ACYC-MSKCC_2000136    Oral cavity                         No   \n",
       "ACYC-MSKCC_002282     Oral cavity                         No   \n",
       "ACYC-MSKCC_2453       Oral cavity                         No   \n",
       "ACYC-MSKCC_80872    Head and Neck                         No   \n",
       "\n",
       "                   TUMOR_TISSUE_SITE            CANCER_TYPE  \\\n",
       "ACYC-MSKCC_000236            Maxilla  Salivary Gland Cancer   \n",
       "ACYC-MSKCC_2000136       Hard palate  Salivary Gland Cancer   \n",
       "ACYC-MSKCC_002282        Hard palate  Salivary Gland Cancer   \n",
       "ACYC-MSKCC_2453               Palate  Salivary Gland Cancer   \n",
       "ACYC-MSKCC_80872             Thyroid  Salivary Gland Cancer   \n",
       "\n",
       "                   PERINEURAL_INVASION METASTATIC_SITE TUMOR_STAGE PLATFORM  \n",
       "ACYC-MSKCC_000236                  Yes             NaN    Advanced  WGS/WES  \n",
       "ACYC-MSKCC_2000136                 Yes             NaN    Advanced  WGS/WES  \n",
       "ACYC-MSKCC_002282                  Yes             NaN       Early  WGS/WES  \n",
       "ACYC-MSKCC_2453                    Yes             NaN    Advanced  WGS/WES  \n",
       "ACYC-MSKCC_80872                    No             NaN    Advanced  WGS/WES  "
      ]
     },
     "execution_count": 9,
     "metadata": {},
     "output_type": "execute_result"
    }
   ],
   "source": [
    "df1 = json_to_df(pd.read_json('http://cbioportal-rc.herokuapp.com/api/studies/acyc_mskcc_2013/clinical-data?projection=SUMMARY&pageNumber=0&pageSize=1000&direction=ASC'))\n",
    "df2 = json_to_df(pd.read_json('http://cbioportal-rc.herokuapp.com/api/studies/acbc_mskcc_2015/clinical-data?projection=SUMMARY&pageNumber=0&direction=ASC'))\n",
    "df3 = json_to_df(pd.read_json('http://cbioportal-rc.herokuapp.com/api/studies/ov_tcga/clinical-data?projection=SUMMARY&pageNumber=0&direction=ASC'))\n",
    "df4 = json_to_df(pd.read_json('http://cbioportal-rc.herokuapp.com/api/studies/acyc_sanger_2013/clinical-data?projection=SUMMARY&pageNumber=0&direction=ASC'))\n",
    "df5 = json_to_df(pd.read_json('http://cbioportal-rc.herokuapp.com/api/studies/egc_tmucih_2015/clinical-data?projection=SUMMARY&pageNumber=0&direction=ASC'))\n",
    "df6 = json_to_df(pd.read_json('http://cbioportal-rc.herokuapp.com/api/studies/ccrcc_utokyo_2013/clinical-data?projection=SUMMARY&pageNumber=0&direction=ASC'))\n",
    "df7 = json_to_df(pd.read_json('http://cbioportal-rc.herokuapp.com/api/studies/lgg_tcga/clinical-data?projection=SUMMARY&pageNumber=0&direction=ASC'))\n",
    "df8 = json_to_df(pd.read_json('http://cbioportal-rc.herokuapp.com/api/studies/lihc_amc_prv/clinical-data?projection=SUMMARY&pageNumber=0&direction=ASC'))\n",
    "\n",
    "\n",
    "df1.head(5)"
   ]
  },
  {
   "cell_type": "markdown",
   "metadata": {},
   "source": [
    "### Jaccardi similarity between study attributes"
   ]
  },
  {
   "cell_type": "code",
   "execution_count": 6,
   "metadata": {
    "collapsed": false
   },
   "outputs": [],
   "source": [
    "import numpy as np\n",
    "from sklearn.metrics.pairwise import cosine_similarity\n",
    "from sklearn.feature_extraction.text import CountVectorizer\n",
    "from sklearn.feature_extraction.text import TfidfVectorizer\n",
    "from collections import Counter\n",
    "\n",
    "\n",
    "\n",
    "def similarity(df1, df2):\n",
    "    # get the unique attributes\n",
    "    study1_attrs=set(df1.columns.values)\n",
    "    study2_attrs=set(df2.columns.values)\n",
    "\n",
    "    \n",
    "    #########################\n",
    "    # JACCARD COEFFICIENT   #\n",
    "    #########################\n",
    "    \n",
    "    # create a dataframe of desired dimension\n",
    "    jaccard = pd.DataFrame(index=study1_attrs, columns=study2_attrs)\n",
    "    jaccard = jaccard.fillna(0.0)\n",
    "\n",
    "    df1 = df1.reset_index()\n",
    "    df2 = df2.reset_index()\n",
    "\n",
    "    \n",
    "    # loop over unique values by column per dataframe\n",
    "    # first go over unique values in dataframe1 columns\n",
    "    for i in study1_attrs:\n",
    "        unique_vals_1 = set(df1[i].unique())\n",
    "        # then go over unique values in dataframe2 columns\n",
    "        for j in study2_attrs:\n",
    "            # get unique vals for dataframe2\n",
    "            unique_vals_2 = set(df2[j].unique())\n",
    "            # get the cardinality\n",
    "            intersection_cardinality = float(len(set.intersection(unique_vals_1,unique_vals_2)))\n",
    "            union_cardinality = float(len(set.union(unique_vals_1,unique_vals_2)))\n",
    "            # jaccard coefficient\n",
    "            jaccard_coef = float(intersection_cardinality/union_cardinality)\n",
    "            # set the value into pandas dataframe\n",
    "            jaccard.set_value(i, j, jaccard_coef)\n",
    "\n",
    "    # if you print 'df' you can actually get the jaccard coefficient between each column per study\n",
    "    \n",
    "    #########################\n",
    "    # COSINE SIMILARITY   #\n",
    "    #########################\n",
    "    \n",
    "    cosine = pd.DataFrame(index=study1_attrs, columns=study2_attrs)\n",
    "    cosine = cosine.fillna(0.0)\n",
    "    \n",
    "    df1 = df1.reset_index()\n",
    "    df2 = df2.reset_index()\n",
    "\n",
    "\n",
    "    for i in study1_attrs:\n",
    "        # get all values for dataframe1 column i\n",
    "        values_1 = df1[i].values.astype('str').tolist()\n",
    "        # get counts per value values for dataframe1\n",
    "        a_vals = Counter(values_1)\n",
    "\n",
    "        # then go over values in dataframe2 columns\n",
    "        for j in study2_attrs:\n",
    "            # get all values for dataframe2 column j\n",
    "            values_2 = df2[j].values.astype('str').tolist()            \n",
    "            # count word occurrences\n",
    "            b_vals = Counter(values_2)\n",
    "\n",
    "            # convert to word-vectors\n",
    "            words  = list(a_vals.keys() | b_vals.keys())\n",
    "            a_vect = [a_vals.get(word, 0) for word in words]       \n",
    "            b_vect = [b_vals.get(word, 0) for word in words]       \n",
    "\n",
    "            # find cosine\n",
    "            # length of each vector\n",
    "            len_a  = sum(av*av for av in a_vect) ** 0.5           \n",
    "            len_b  = sum(bv*bv for bv in b_vect) ** 0.5          \n",
    "            # dot product of vectors\n",
    "            dot    = sum(av*bv for av,bv in zip(a_vect, b_vect)) \n",
    "            # get the score\n",
    "            cosine_score = dot / (len_a * len_b)\n",
    "            # set the value in the place where we track it\n",
    "            cosine.set_value(i, j, cosine_score)\n",
    "\n",
    "\n",
    "    # now format the presentation of similar attributes by jaccard\n",
    "    similar_attributes_value_jacardi = ''\n",
    "    for i in (jaccard.index.values):\n",
    "        for j in (jaccard.columns.values):\n",
    "            if(jaccard.get_value(i,j) > 0.5):\n",
    "                similar_attributes_value_jacardi += (i +' and ' + j + ' with Jacardi coef = ' + str(jaccard.get_value(i,j)) + ', ')\n",
    "\n",
    "\n",
    "    # now format the presentation of similar attributes by jaccard\n",
    "    similar_attributes_value_cosine = ''\n",
    "    for i in (cosine.index.values):\n",
    "        for j in (cosine.columns.values):\n",
    "            if(cosine.get_value(i,j) > 0.5):\n",
    "                similar_attributes_value_cosine += (i +' and ' + j + ' with Cosine score = ' + str(cosine.get_value(i,j)) + ', ')\n",
    "\n",
    "    \n",
    "    \n",
    "    # get the same named columns\n",
    "    same_attributes = study1_attrs.intersection(study2_attrs)\n",
    "    # these are unique attributes in each study\n",
    "    unique_attrs_study1 = study1_attrs-same_attributes\n",
    "    unique_attrs_study2 = study2_attrs-same_attributes\n",
    "                \n",
    "    print(\"Study1 attributes:\", study1_attrs)\n",
    "    print()\n",
    "    print(\"Study2 attributes:\", study2_attrs)\n",
    "    print()\n",
    "    print(\"\\n-----------------------------------------------------------------------------------------\\n\")\n",
    "    print(\"Same attributesin both studies:\",same_attributes)\n",
    "    print(\"\\n-------------------------------------\\n\")\n",
    "    print(\"Similar attributes based on Jaccardi coefficient:\",similar_attributes_value_jacardi)\n",
    "    print(\"\\n-------------------------------------\\n\")\n",
    "    print(\"Similar attributes based on Cosine score:\",similar_attributes_value_cosine)\n",
    "    print(\"\\n-------------------------------------\\n\")\n",
    "\n",
    "\n",
    "\n",
    "    return \n"
   ]
  },
  {
   "cell_type": "code",
   "execution_count": 7,
   "metadata": {
    "collapsed": false
   },
   "outputs": [
    {
     "name": "stdout",
     "output_type": "stream",
     "text": [
      "Study1 attributes: {'SAMPLE_TYPE', 'CANCER_TYPE_DETAILED', 'ONCOTREE_CODE', 'PRIMARY_SITE', 'METASTATIC_TUMOR_INDICATOR', 'TUMOR_TISSUE_SITE', 'CANCER_TYPE', 'PERINEURAL_INVASION', 'METASTATIC_SITE', 'TUMOR_STAGE', 'PLATFORM'}\n",
      "\n",
      "Study2 attributes: {'SAMPLE_TYPE', 'CANCER_TYPE_DETAILED', 'ONCOTREE_CODE', 'PRIMARY_SITE', 'METASTATIC_TUMOR_INDICATOR', 'TUMOR_TISSUE_SITE', 'CANCER_TYPE', 'MYB_NFIB_NONSYNONYMOUS_COUNT', 'METASTATIC_SITE', 'ER_STATUS_BY_IHC', 'TYPE_OF_SURGERY', 'IHC_HER2', 'TUMOR_SIZE', 'PR_STATUS_BY_IHC', 'MYB_NFIB_CNA', 'TUMOR_STAGE', 'PLATFORM'}\n",
      "\n",
      "\n",
      "-----------------------------------------------------------------------------------------\n",
      "\n",
      "Same attributesin both studies: {'SAMPLE_TYPE', 'CANCER_TYPE_DETAILED', 'ONCOTREE_CODE', 'PRIMARY_SITE', 'METASTATIC_TUMOR_INDICATOR', 'TUMOR_TISSUE_SITE', 'CANCER_TYPE', 'METASTATIC_SITE', 'TUMOR_STAGE', 'PLATFORM'}\n",
      "\n",
      "-------------------------------------\n",
      "\n",
      "Similar attributes based on Jaccardi coefficient: SAMPLE_TYPE and SAMPLE_TYPE with Jacardi coef = 1.0, METASTATIC_TUMOR_INDICATOR and METASTATIC_TUMOR_INDICATOR with Jacardi coef = 1.0, \n",
      "\n",
      "-------------------------------------\n",
      "\n",
      "Similar attributes based on Cosine score: SAMPLE_TYPE and SAMPLE_TYPE with Cosine score = 1.0, METASTATIC_TUMOR_INDICATOR and METASTATIC_TUMOR_INDICATOR with Cosine score = 0.998079269773, METASTATIC_SITE and METASTATIC_SITE with Cosine score = 0.986060459365, \n",
      "\n",
      "-------------------------------------\n",
      "\n"
     ]
    }
   ],
   "source": [
    "similarity(df1,df2)"
   ]
  },
  {
   "cell_type": "code",
   "execution_count": 8,
   "metadata": {
    "collapsed": false
   },
   "outputs": [
    {
     "name": "stdout",
     "output_type": "stream",
     "text": [
      "Study1 attributes: {'SAMPLE_TYPE', 'VIAL_NUMBER', 'IS_FFPE', 'PATHOLOGY_REPORT_UUID', 'OTHER_SAMPLE_ID', 'SAMPLE_TYPE_ID', 'SPECIMEN_SECOND_LONGEST_DIMENSION', 'SHORTEST_DIMENSION', 'PATHOLOGY_REPORT_FILE_NAME', 'LONGEST_DIMENSION'}\n",
      "\n",
      "Study2 attributes: {'VHL_MUTATION_CODON', 'CANCER_TYPE_DETAILED', 'SARCOMATOID_COMPONENT', 'CANCER_TYPE', 'GENE_EXPRESSION_CLUSTER', 'METASTATIC_SITE', 'VHL_MUTATION_AA', 'STAGE_AT_DIAGNOSIS', 'GRADE', 'GENE_PANEL'}\n",
      "\n",
      "\n",
      "-----------------------------------------------------------------------------------------\n",
      "\n",
      "Same attributesin both studies: set()\n",
      "\n",
      "-------------------------------------\n",
      "\n",
      "Similar attributes based on Jaccardi coefficient: \n",
      "\n",
      "-------------------------------------\n",
      "\n",
      "Similar attributes based on Cosine score: \n",
      "\n",
      "-------------------------------------\n",
      "\n"
     ]
    }
   ],
   "source": [
    "similarity(df3,df4)"
   ]
  },
  {
   "cell_type": "code",
   "execution_count": 10,
   "metadata": {
    "collapsed": false
   },
   "outputs": [
    {
     "name": "stdout",
     "output_type": "stream",
     "text": [
      "Study1 attributes: {'CDH1_STATUS', 'CANCER_TYPE_DETAILED', 'DNA_REPAIR_STATUS', 'CLONAL_LABEL', 'CANCER_TYPE', 'ARID1A_MUTATION', 'TP53_MUTATION', 'GRADE', 'PLATFORM'}\n",
      "\n",
      "Study2 attributes: {'GRADE', 'CANCER_TYPE', 'CANCER_TYPE_DETAILED'}\n",
      "\n",
      "\n",
      "-----------------------------------------------------------------------------------------\n",
      "\n",
      "Same attributesin both studies: {'GRADE', 'CANCER_TYPE', 'CANCER_TYPE_DETAILED'}\n",
      "\n",
      "-------------------------------------\n",
      "\n",
      "Similar attributes based on Jaccardi coefficient: \n",
      "\n",
      "-------------------------------------\n",
      "\n",
      "Similar attributes based on Cosine score: \n",
      "\n",
      "-------------------------------------\n",
      "\n"
     ]
    }
   ],
   "source": [
    "similarity(df5,df8)"
   ]
  },
  {
   "cell_type": "code",
   "execution_count": 14,
   "metadata": {
    "collapsed": false
   },
   "outputs": [
    {
     "name": "stdout",
     "output_type": "stream",
     "text": [
      "Study1 attributes: {'SAMPLE_TYPE', 'CANCER_TYPE_DETAILED', 'ONCOTREE_CODE', 'PRIMARY_SITE', 'METASTATIC_TUMOR_INDICATOR', 'TUMOR_TISSUE_SITE', 'CANCER_TYPE', 'MYB_NFIB_NONSYNONYMOUS_COUNT', 'METASTATIC_SITE', 'ER_STATUS_BY_IHC', 'TYPE_OF_SURGERY', 'IHC_HER2', 'TUMOR_SIZE', 'PR_STATUS_BY_IHC', 'MYB_NFIB_CNA', 'TUMOR_STAGE', 'PLATFORM'}\n",
      "\n",
      "Study2 attributes: {'VHL_MUTATION_CODON', 'CANCER_TYPE_DETAILED', 'SARCOMATOID_COMPONENT', 'CANCER_TYPE', 'GENE_EXPRESSION_CLUSTER', 'METASTATIC_SITE', 'VHL_MUTATION_AA', 'STAGE_AT_DIAGNOSIS', 'GRADE', 'GENE_PANEL'}\n",
      "\n",
      "\n",
      "-----------------------------------------------------------------------------------------\n",
      "\n",
      "Same attributesin both studies: {'METASTATIC_SITE', 'CANCER_TYPE', 'CANCER_TYPE_DETAILED'}\n",
      "\n",
      "-------------------------------------\n",
      "\n",
      "Similar attributes based on Jaccardi coefficient: \n",
      "\n",
      "-------------------------------------\n",
      "\n",
      "Similar attributes based on Cosine score: METASTATIC_SITE and VHL_MUTATION_CODON with Cosine score = 0.969331267486, METASTATIC_SITE and VHL_MUTATION_AA with Cosine score = 0.960938631012, \n",
      "\n",
      "-------------------------------------\n",
      "\n"
     ]
    }
   ],
   "source": [
    "similarity(df2,df6)"
   ]
  },
  {
   "cell_type": "code",
   "execution_count": 18,
   "metadata": {
    "collapsed": false
   },
   "outputs": [
    {
     "name": "stdout",
     "output_type": "stream",
     "text": [
      "Study1 attributes: {'SAMPLE_TYPE', 'VIAL_NUMBER', 'IS_FFPE', 'PATHOLOGY_REPORT_UUID', 'OTHER_SAMPLE_ID', 'SAMPLE_TYPE_ID', 'SPECIMEN_SECOND_LONGEST_DIMENSION', 'SHORTEST_DIMENSION', 'PATHOLOGY_REPORT_FILE_NAME', 'LONGEST_DIMENSION'}\n",
      "\n",
      "Study2 attributes: {'SAMPLE_TYPE', 'VIAL_NUMBER', 'OCT_EMBEDDED', 'IS_FFPE', 'INITIAL_WEIGHT', 'PATHOLOGY_REPORT_UUID', 'SAMPLE_TYPE_ID', 'OTHER_SAMPLE_ID', 'PATHOLOGY_REPORT_FILE_NAME', 'DAYS_TO_COLLECTION'}\n",
      "\n",
      "\n",
      "-----------------------------------------------------------------------------------------\n",
      "\n",
      "Same attributesin both studies: {'SAMPLE_TYPE', 'VIAL_NUMBER', 'IS_FFPE', 'PATHOLOGY_REPORT_UUID', 'SAMPLE_TYPE_ID', 'OTHER_SAMPLE_ID', 'PATHOLOGY_REPORT_FILE_NAME'}\n",
      "\n",
      "-------------------------------------\n",
      "\n",
      "Similar attributes based on Jaccardi coefficient: \n",
      "\n",
      "-------------------------------------\n",
      "\n",
      "Similar attributes based on Cosine score: SAMPLE_TYPE and SAMPLE_TYPE with Cosine score = 0.998245144081, VIAL_NUMBER and VIAL_NUMBER with Cosine score = 0.999403745509, IS_FFPE and IS_FFPE with Cosine score = 0.99995000375, SAMPLE_TYPE_ID and SAMPLE_TYPE_ID with Cosine score = 0.998245144081, \n",
      "\n",
      "-------------------------------------\n",
      "\n"
     ]
    }
   ],
   "source": [
    "similarity(df3,df7)"
   ]
  }
 ],
 "metadata": {
  "anaconda-cloud": {},
  "kernelspec": {
   "display_name": "Python [conda root]",
   "language": "python",
   "name": "conda-root-py"
  },
  "language_info": {
   "codemirror_mode": {
    "name": "ipython",
    "version": 3
   },
   "file_extension": ".py",
   "mimetype": "text/x-python",
   "name": "python",
   "nbconvert_exporter": "python",
   "pygments_lexer": "ipython3",
   "version": "3.4.3"
  }
 },
 "nbformat": 4,
 "nbformat_minor": 2
}
