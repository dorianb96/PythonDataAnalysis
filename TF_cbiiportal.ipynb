{
 "cells": [
  {
   "cell_type": "markdown",
   "metadata": {},
   "source": [
    "### Most frequent n-word combinations\n",
    "    - you can just change the number desired_number, \n",
    "    but the program won't work unless you have the condensed_files.txt file in the same folder"
   ]
  },
  {
   "cell_type": "code",
   "execution_count": 4,
   "metadata": {
    "collapsed": false
   },
   "outputs": [],
   "source": [
    "import operator\n",
    "import itertools\n",
    "import sys\n",
    "\n",
    "f = open('condensed_files.txt','r')\n",
    "s = f.readlines()\n",
    "metrics_per_study = [x.replace('\\t',';').replace('\\n','').replace(' ','_').replace('#','').lower().split(';')\n",
    "      for x in s if not (x.startswith('==>' ) or x.startswith('\\n' ))]\n",
    "\n",
    "def get_all(x):\n",
    "    for i in x:\n",
    "        for j in i:\n",
    "            yield(j)\n",
    "\n",
    "x = [j for j in get_all(metrics_per_study)]\n",
    "\n",
    "wordcount={}\n",
    "for word in x:\n",
    "    if word not in wordcount:\n",
    "        wordcount[word] = 1\n",
    "    else:\n",
    "        wordcount[word] += 1\n",
    "\n",
    "\n",
    "best_words = sorted(wordcount.items(), key=operator.itemgetter(1),reverse=True)[0:25]\n",
    "\n",
    "def get_best_combo(n):\n",
    "    n_word_combos = list(itertools.combinations(range(len(best_words)), n))\n",
    "    words_frequencies={}\n",
    "\n",
    "    for i in n_word_combos:\n",
    "        words = []\n",
    "        for k in range (n):\n",
    "            words.append(best_words[i[k]][0])\n",
    "        word_string = ''\n",
    "        for l in words:\n",
    "            word_string += l\n",
    "            word_string += '    '\n",
    "        word_string=word_string.rstrip(\"    \")\n",
    "        for j in metrics_per_study:\n",
    "            if set(words).issubset(set(j)):\n",
    "                if word_string in words_frequencies:\n",
    "                    words_frequencies[word_string] += 1\n",
    "                else:\n",
    "                    words_frequencies[word_string] =1\n",
    "    for key, value in words_frequencies.items():\n",
    "        words_frequencies[key] = round(value / len(metrics_per_study),2)\n",
    "\n",
    "    sorted_combo_frequencies = sorted(words_frequencies.items(), key=operator.itemgetter(1),reverse=True)\n",
    "    return sorted_combo_frequencies\n",
    "\n",
    "\n",
    "\n",
    "# just call this to see how often a combination of attribute names appear in studies\n",
    "def print_best(desired_number):\n",
    "    print(\"This is a dictionary where:\")\n",
    "    print(\"-Key is the combination of attributes\")\n",
    "    print(\"-Value is the frequency of that combination of attributes in attributes of medical studies data\")\n",
    "    print()\n",
    "    j = 0\n",
    "    for i in get_best_combo(int(desired_number)):\n",
    "        if (j < 10):\n",
    "            j+=1\n",
    "            print(i)\n",
    "    return"
   ]
  },
  {
   "cell_type": "code",
   "execution_count": 5,
   "metadata": {
    "collapsed": false
   },
   "outputs": [
    {
     "name": "stdout",
     "output_type": "stream",
     "text": [
      "This is a dictionary where:\n",
      "-Key is the combination of attributes\n",
      "-Value is the frequency of that combination of attributes in attributes of medical studies data\n",
      "\n",
      "('cancer_type', 0.8)\n",
      "('patient_identifier', 0.78)\n",
      "('cancer_type_detailed', 0.78)\n",
      "('sample_identifier', 0.78)\n",
      "('diagnosis_age', 0.52)\n",
      "('oncotree_code', 0.42)\n",
      "('person_gender', 0.35)\n",
      "('overall_survival_status', 0.32)\n",
      "('overall_survival_(months)', 0.27)\n",
      "('primary_tumor_site', 0.22)\n"
     ]
    }
   ],
   "source": [
    "print_best(1)"
   ]
  },
  {
   "cell_type": "code",
   "execution_count": 6,
   "metadata": {
    "collapsed": false
   },
   "outputs": [
    {
     "name": "stdout",
     "output_type": "stream",
     "text": [
      "This is a dictionary where:\n",
      "-Key is the combination of attributes\n",
      "-Value is the frequency of that combination of attributes in attributes of medical studies data\n",
      "\n",
      "('cancer_type    patient_identifier', 0.78)\n",
      "('cancer_type_detailed    patient_identifier', 0.78)\n",
      "('cancer_type    sample_identifier', 0.78)\n",
      "('patient_identifier    sample_identifier', 0.78)\n",
      "('cancer_type    cancer_type_detailed', 0.78)\n",
      "('cancer_type_detailed    sample_identifier', 0.78)\n",
      "('patient_identifier    diagnosis_age', 0.52)\n",
      "('cancer_type    diagnosis_age', 0.52)\n",
      "('cancer_type_detailed    diagnosis_age', 0.52)\n",
      "('sample_identifier    diagnosis_age', 0.52)\n"
     ]
    }
   ],
   "source": [
    "print_best(2)"
   ]
  },
  {
   "cell_type": "code",
   "execution_count": 7,
   "metadata": {
    "collapsed": false
   },
   "outputs": [
    {
     "name": "stdout",
     "output_type": "stream",
     "text": [
      "This is a dictionary where:\n",
      "-Key is the combination of attributes\n",
      "-Value is the frequency of that combination of attributes in attributes of medical studies data\n",
      "\n",
      "('cancer_type_detailed    patient_identifier    sample_identifier', 0.78)\n",
      "('cancer_type    patient_identifier    sample_identifier', 0.78)\n",
      "('cancer_type    cancer_type_detailed    patient_identifier', 0.78)\n",
      "('cancer_type    cancer_type_detailed    sample_identifier', 0.78)\n",
      "('patient_identifier    sample_identifier    diagnosis_age', 0.52)\n",
      "('cancer_type_detailed    sample_identifier    diagnosis_age', 0.52)\n",
      "('cancer_type    sample_identifier    diagnosis_age', 0.52)\n",
      "('cancer_type    patient_identifier    diagnosis_age', 0.52)\n",
      "('cancer_type    cancer_type_detailed    diagnosis_age', 0.52)\n",
      "('cancer_type_detailed    patient_identifier    diagnosis_age', 0.52)\n"
     ]
    }
   ],
   "source": [
    "print_best(3)"
   ]
  },
  {
   "cell_type": "code",
   "execution_count": 8,
   "metadata": {
    "collapsed": false
   },
   "outputs": [
    {
     "name": "stdout",
     "output_type": "stream",
     "text": [
      "This is a dictionary where:\n",
      "-Key is the combination of attributes\n",
      "-Value is the frequency of that combination of attributes in attributes of medical studies data\n",
      "\n",
      "('cancer_type    cancer_type_detailed    patient_identifier    sample_identifier', 0.78)\n",
      "('cancer_type    patient_identifier    sample_identifier    diagnosis_age', 0.52)\n",
      "('cancer_type_detailed    patient_identifier    sample_identifier    diagnosis_age', 0.52)\n",
      "('cancer_type    cancer_type_detailed    sample_identifier    diagnosis_age', 0.52)\n",
      "('cancer_type    cancer_type_detailed    patient_identifier    diagnosis_age', 0.52)\n",
      "('cancer_type    cancer_type_detailed    patient_identifier    person_gender', 0.35)\n",
      "('cancer_type    cancer_type_detailed    sample_identifier    person_gender', 0.35)\n",
      "('cancer_type    patient_identifier    sample_identifier    person_gender', 0.35)\n",
      "('cancer_type_detailed    patient_identifier    sample_identifier    person_gender', 0.35)\n",
      "('cancer_type    patient_identifier    sample_identifier    overall_survival_status', 0.32)\n"
     ]
    }
   ],
   "source": [
    "print_best(4)"
   ]
  },
  {
   "cell_type": "code",
   "execution_count": 9,
   "metadata": {
    "collapsed": false
   },
   "outputs": [
    {
     "name": "stdout",
     "output_type": "stream",
     "text": [
      "This is a dictionary where:\n",
      "-Key is the combination of attributes\n",
      "-Value is the frequency of that combination of attributes in attributes of medical studies data\n",
      "\n",
      "('cancer_type    cancer_type_detailed    patient_identifier    sample_identifier    diagnosis_age', 0.52)\n",
      "('cancer_type    cancer_type_detailed    patient_identifier    sample_identifier    person_gender', 0.35)\n",
      "('cancer_type    cancer_type_detailed    patient_identifier    sample_identifier    overall_survival_status', 0.32)\n",
      "('cancer_type_detailed    patient_identifier    sample_identifier    diagnosis_age    person_gender', 0.3)\n",
      "('cancer_type    cancer_type_detailed    sample_identifier    diagnosis_age    person_gender', 0.3)\n",
      "('cancer_type    patient_identifier    sample_identifier    diagnosis_age    person_gender', 0.3)\n",
      "('cancer_type    cancer_type_detailed    patient_identifier    diagnosis_age    person_gender', 0.3)\n",
      "('cancer_type_detailed    patient_identifier    sample_identifier    overall_survival_status    overall_survival_(months)', 0.27)\n",
      "('cancer_type    cancer_type_detailed    patient_identifier    sample_identifier    overall_survival_(months)', 0.27)\n",
      "('cancer_type    cancer_type_detailed    sample_identifier    overall_survival_status    overall_survival_(months)', 0.27)\n"
     ]
    }
   ],
   "source": [
    "print_best(5)"
   ]
  },
  {
   "cell_type": "markdown",
   "metadata": {},
   "source": [
    "### Measuring similiarity of two studies:\n",
    "\n",
    "###### Gives the similiarity of two studies based on:\n",
    "###### a) attribute names\n",
    "###### b) attribute values (not very refined)"
   ]
  },
  {
   "cell_type": "code",
   "execution_count": 14,
   "metadata": {
    "collapsed": false
   },
   "outputs": [],
   "source": [
    "import os\n",
    "import pandas as pd\n",
    "\n",
    "# condensed_files has a) file location b) file headers\n",
    "f = open('condensed_files.txt','r')\n",
    "s = f.readlines()\n",
    "\n",
    "study_files = [x.replace('==>','').replace('<==\\n','').replace(' ','').replace('./','/')\n",
    "      for x in s if (x.startswith('==>' ) )]\n",
    "\n",
    "\n",
    "\n",
    "path = os.getcwd().replace('/script_project','')\n",
    "\n",
    "\n",
    "def read_file(filepath):\n",
    "    k = open(filepath)\n",
    "    num_rows = 0\n",
    "    j=k.readline()\n",
    "    while j.startswith('#'):\n",
    "        j = k.readline()\n",
    "        num_rows+=1\n",
    "    return pd.read_csv(filepath, sep = '\\t', skiprows=num_rows, header='infer')\n",
    "\n",
    "def study_similiarity(study1:pd.core.frame.DataFrame, study2:pd.core.frame.DataFrame):\n",
    "    study1_attrs=set(study1.columns.values)\n",
    "    study2_attrs=set(study2.columns.values)\n",
    "    same_attributes = study1_attrs.intersection(study2_attrs)\n",
    "    unique_attrs_study1 = study1_attrs-same_attributes\n",
    "    unique_attrs_study2 = study2_attrs-same_attributes\n",
    "    \n",
    "    similar_attributes = ''\n",
    "    for i in study1.columns:\n",
    "        study1_unique = set(study1[i].unique())\n",
    "        for j in study2.columns:\n",
    "            study2_unique = set(study2[j].unique())\n",
    "            if len(study1_unique.intersection(study2_unique)) > (0.75 * min(len(study1_unique), len(study2_unique))):\n",
    "                similar_attributes += (i +' with ' + j + ', ')\n",
    "            \n",
    "    print(\"Study1 attributes:\", study1_attrs)\n",
    "    print()\n",
    "    print(\"Study2 attributes:\", study2_attrs)\n",
    "    print(\"-----------------------------------------------------------------------------------------\\n\")\n",
    "    print(\"Same attributes:\",same_attributes)\n",
    "    #print(\"-------------------------------------\\n\")\n",
    "    print(\"Similar attributes:\",similar_attributes)\n",
    "    return "
   ]
  },
  {
   "cell_type": "code",
   "execution_count": 15,
   "metadata": {
    "collapsed": false
   },
   "outputs": [
    {
     "name": "stdout",
     "output_type": "stream",
     "text": [
      "Study1 attributes: {'ABERRANT_CELL_FRACTION', 'SAMPLE_ID', 'MITOTIC_COUNT', 'MITOTIC_SCORE', 'PATIENT_ID', 'TUBULE_SCORE', 'PLEOMORPHISM_SCORE', 'HER2_STATUS', 'TUMOR_PLOIDY', 'ER_STATUS', 'AGE', 'PR_STATUS', 'HISTOPATHOLOGICAL_DIAGNOSIS', 'GRADE', 'CANCER_TYPE_DETAILED', 'CANCER_TYPE'}\n",
      "\n",
      "Study2 attributes: {'OS_STATUS', 'PRIMARY_SITE', 'SAMPLE_ID', 'MRNA_DATA', 'PATIENT_ID', 'PRIMARY_TUMOR_PATHOLOGIC_SPREAD', 'OS_MONTHS', 'SEQUENCED', 'MLH1_SILENCING', 'GENDER', 'METHYLATION', 'EXPRESSION_SUBTYPE', 'MSI_STATUS', 'HISTOLOGICAL_SUBTYPE', 'COPY_NUMBER', 'ICLUSTER', 'HYPERMUTATED', 'CANCER_TYPE_DETAILED', 'METHYLATION_SUBTYPE', 'TUMOR_STAGE_2009', 'CANCER_TYPE'}\n",
      "-----------------------------------------------------------------------------------------\n",
      "\n",
      "Same attributes: {'PATIENT_ID', 'SAMPLE_ID', 'CANCER_TYPE_DETAILED', 'CANCER_TYPE'}\n",
      "Similar attributes: MITOTIC_COUNT with SEQUENCED, MITOTIC_COUNT with COPY_NUMBER, MITOTIC_COUNT with MRNA_DATA, MITOTIC_COUNT with METHYLATION, \n"
     ]
    }
   ],
   "source": [
    "df1 = read_file(path+study_files[21])\n",
    "df2 = read_file(path+study_files[35])\n",
    "\n",
    "study_similiarity(df1,df2)"
   ]
  },
  {
   "cell_type": "code",
   "execution_count": 16,
   "metadata": {
    "collapsed": false
   },
   "outputs": [
    {
     "name": "stdout",
     "output_type": "stream",
     "text": [
      "Study1 attributes: {'PRIMARY_SITE', 'SAMPLE_ID', 'SAMPLE_DISPLAY_NAME', 'OS_MONTHS', 'AGE', 'CANCER_TYPE_DETAILED', 'DFS_MONTHS', 'SAMPLE_CLASS', 'SITE_OF_RECURRENCE', 'YEAR_OF_SURGERY', 'ONCOTREE_CODE', 'DFS_STATUS', 'LYMPH_NODE_STATUS', 'CANCER_TYPE', 'PATIENT_DISPLAY_NAME', 'GENE_PANEL', 'SEX', 'TNMSTAGE', 'TUMOR_PATH_STAGE', 'OS_STATUS', 'CLINICAL_STATUS', 'PATIENT_ID', 'SPECIMEN_PRESERVATION_TYPE', 'SAMPLE_TYPE', 'METASTATIC_SITE'}\n",
      "\n",
      "Study2 attributes: {'TISSUE_SOURCE_SITE', 'SAMPLE_ID', 'PATIENT_ID', 'TUMOR_TYPE', 'STR_STATUS', 'DIAGNOSIS', 'MSI_STATUS', 'TUMOR_CONTENT', 'CANCER_TYPE_DETAILED', 'CANCER_TYPE'}\n",
      "-----------------------------------------------------------------------------------------\n",
      "\n",
      "Same attributes: {'PATIENT_ID', 'SAMPLE_ID', 'CANCER_TYPE_DETAILED', 'CANCER_TYPE'}\n",
      "Similar attributes: SAMPLE_CLASS with TISSUE_SOURCE_SITE, \n"
     ]
    }
   ],
   "source": [
    "df1 = read_file(path+study_files[12])\n",
    "df2 = read_file(path+study_files[32])\n",
    "\n",
    "study_similiarity(df1,df2)"
   ]
  },
  {
   "cell_type": "code",
   "execution_count": 17,
   "metadata": {
    "collapsed": false
   },
   "outputs": [
    {
     "name": "stdout",
     "output_type": "stream",
     "text": [
      "Study1 attributes: {'TUMOR_GRADE', 'CANCER_TYPE', 'PRIMARY_SITE', 'SAMPLE_ID', 'GENOMIC_ALTERATIONS', 'ONCOTREE_CODE', 'PATIENT_ID', 'METASTATIC_TUMOR_INDICATOR', 'PLATFORM', 'GENDER', 'TUMOR_TISSUE_SITE', 'AGE', 'CANCER_TYPE_DETAILED', 'SAMPLE_TYPE', 'TUMOR_STAGE', 'ACTIONABLE_ALTERATIONS', 'METASTATIC_SITE'}\n",
      "\n",
      "Study2 attributes: {'SMOKING_PACK_YEARS', 'SAMPLE_ID', 'PATIENT_ID', 'SMOKER', 'PATH_T_STAGE', 'BARRETTS_ESOPHAGUS', 'SEX', 'PATH_N_STAGE', 'AGE', 'PRIMARY_SITE_OTHER', 'CLIN_M_STAGE', 'ETHNICITY', 'GRADE', 'NONSILENT_PER_MB', 'CANCER_TYPE_DETAILED', 'TUMOR_SITE', 'CANCER_TYPE'}\n",
      "-----------------------------------------------------------------------------------------\n",
      "\n",
      "Same attributes: {'PATIENT_ID', 'CANCER_TYPE', 'SAMPLE_ID', 'AGE', 'CANCER_TYPE_DETAILED'}\n",
      "Similar attributes: AGE with AGE, GENDER with SEX, GENOMIC_ALTERATIONS with PATH_N_STAGE, GENOMIC_ALTERATIONS with CLIN_M_STAGE, ACTIONABLE_ALTERATIONS with PATH_N_STAGE, ACTIONABLE_ALTERATIONS with CLIN_M_STAGE, \n"
     ]
    }
   ],
   "source": [
    "df1 = read_file(path+study_files[2])\n",
    "df2 = read_file(path+study_files[42])\n",
    "\n",
    "study_similiarity(df1,df2)"
   ]
  },
  {
   "cell_type": "code",
   "execution_count": 18,
   "metadata": {
    "collapsed": false
   },
   "outputs": [
    {
     "name": "stdout",
     "output_type": "stream",
     "text": [
      "Study1 attributes: {'CANCER_TYPE', 'SAMPLE_ID', 'SEQUENCING_TYPE', 'PATIENT_ID', 'CANCER_TYPE_DETAILED', 'SAMPLE_CLASS'}\n",
      "\n",
      "Study2 attributes: {'PATIENT_ID', 'SAMPLE_ID', 'ONCOTREE_CODE'}\n",
      "-----------------------------------------------------------------------------------------\n",
      "\n",
      "Same attributes: {'PATIENT_ID', 'SAMPLE_ID'}\n",
      "Similar attributes: \n"
     ]
    }
   ],
   "source": [
    "df1 = read_file(path+study_files[17])\n",
    "df2 = read_file(path+study_files[29])\n",
    "\n",
    "study_similiarity(df1,df2)"
   ]
  }
 ],
 "metadata": {
  "anaconda-cloud": {},
  "kernelspec": {
   "display_name": "Python [conda root]",
   "language": "python",
   "name": "conda-root-py"
  },
  "language_info": {
   "codemirror_mode": {
    "name": "ipython",
    "version": 3
   },
   "file_extension": ".py",
   "mimetype": "text/x-python",
   "name": "python",
   "nbconvert_exporter": "python",
   "pygments_lexer": "ipython3",
   "version": "3.4.3"
  }
 },
 "nbformat": 4,
 "nbformat_minor": 2
}
